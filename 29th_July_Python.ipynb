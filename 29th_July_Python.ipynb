{
  "nbformat": 4,
  "nbformat_minor": 0,
  "metadata": {
    "colab": {
      "provenance": [],
      "authorship_tag": "ABX9TyNzs+jAMGXAy7uLXpVE66/t",
      "include_colab_link": true
    },
    "kernelspec": {
      "name": "python3",
      "display_name": "Python 3"
    },
    "language_info": {
      "name": "python"
    }
  },
  "cells": [
    {
      "cell_type": "markdown",
      "metadata": {
        "id": "view-in-github",
        "colab_type": "text"
      },
      "source": [
        "<a href=\"https://colab.research.google.com/github/aarav1203/Interview-Data-Structure-Questions/blob/main/29th_July_Python.ipynb\" target=\"_parent\"><img src=\"https://colab.research.google.com/assets/colab-badge.svg\" alt=\"Open In Colab\"/></a>"
      ]
    },
    {
      "cell_type": "markdown",
      "source": [
        "1.Write a Python Program to check if a given string is Anagram or not?"
      ],
      "metadata": {
        "id": "YT3URu1xoFlg"
      }
    },
    {
      "cell_type": "code",
      "source": [
        "def anagram(input):\n",
        "  i=0\n",
        "  j=len(input)-1\n",
        "  while i<=j:\n",
        "    if input[i]!=input[j]:\n",
        "      return False\n",
        "    i+=1\n",
        "    j-=1\n",
        "  return True\n",
        "\n",
        "print(anagram('Boy'))\n",
        "print(anagram('racecar'))"
      ],
      "metadata": {
        "colab": {
          "base_uri": "https://localhost:8080/"
        },
        "id": "mixdQMv4n9e9",
        "outputId": "19c0daa2-f969-4f79-b910-e65d25b2366b"
      },
      "execution_count": 4,
      "outputs": [
        {
          "output_type": "stream",
          "name": "stdout",
          "text": [
            "False\n",
            "True\n"
          ]
        }
      ]
    },
    {
      "cell_type": "markdown",
      "source": [
        "2. Write a Python program to find the maximum and minimum values in a dictionary."
      ],
      "metadata": {
        "id": "1MGfTDyFpQmJ"
      }
    },
    {
      "cell_type": "code",
      "source": [
        "def maxi(input):\n",
        "  val=input.values()\n",
        "  return max(val)\n",
        "def mini(input):\n",
        "  val=input.values()\n",
        "  return min(val)\n",
        "\n",
        "ip={'a':2,'b':4,'c':1,'d':10}\n",
        "print(maxi(ip))\n",
        "print(mini(ip))"
      ],
      "metadata": {
        "colab": {
          "base_uri": "https://localhost:8080/"
        },
        "id": "OdUxgzb1ownQ",
        "outputId": "2440d841-1cd5-4874-b832-22df2176ef83"
      },
      "execution_count": 5,
      "outputs": [
        {
          "output_type": "stream",
          "name": "stdout",
          "text": [
            "10\n",
            "1\n"
          ]
        }
      ]
    },
    {
      "cell_type": "markdown",
      "source": [
        "3. Write a Python program to find the average of a list of numbers."
      ],
      "metadata": {
        "id": "F9vwmW4jqZZm"
      }
    },
    {
      "cell_type": "code",
      "source": [
        "def avg(ip):\n",
        "  return sum(ip)/len(ip)\n",
        "ip=[1,2,3,4,5]\n",
        "print(avg(ip))"
      ],
      "metadata": {
        "colab": {
          "base_uri": "https://localhost:8080/"
        },
        "id": "REaMAzWaqcLv",
        "outputId": "50f92037-49f0-47e0-a3f8-842f5f13d0c7"
      },
      "execution_count": 7,
      "outputs": [
        {
          "output_type": "stream",
          "name": "stdout",
          "text": [
            "3.0\n"
          ]
        }
      ]
    },
    {
      "cell_type": "markdown",
      "source": [
        "4. Write a Python program to remove all vowels from a string."
      ],
      "metadata": {
        "id": "Bz6DQnylrssX"
      }
    },
    {
      "cell_type": "code",
      "source": [
        "def remvow(ip):\n",
        "  vow=['a','e','i','o','u']\n",
        "  ans=\"\"\n",
        "  for char in ip:\n",
        "    if char not in vow:\n",
        "      ans+=char\n",
        "  return ans\n",
        "ip=\"apple\"\n",
        "print(remvow(ip))"
      ],
      "metadata": {
        "id": "-nILeZEDrcVL",
        "outputId": "468e403d-9ba8-4b01-eab1-5aebdfb9c133",
        "colab": {
          "base_uri": "https://localhost:8080/"
        }
      },
      "execution_count": 11,
      "outputs": [
        {
          "output_type": "stream",
          "name": "stdout",
          "text": [
            "ppl\n"
          ]
        }
      ]
    },
    {
      "cell_type": "markdown",
      "source": [
        "5. Write a Python function to calculate the factorial of a number using recursion."
      ],
      "metadata": {
        "id": "M7Bj_6xNsw-F"
      }
    },
    {
      "cell_type": "code",
      "source": [
        "def fact(n):\n",
        "  if n==0:\n",
        "    return 1\n",
        "  return n*fact(n-1)\n",
        "print(fact(5))\n",
        ""
      ],
      "metadata": {
        "id": "bZnCc8ZAsadw",
        "outputId": "d78ae9ae-bf15-4991-dd5f-1afe544651a6",
        "colab": {
          "base_uri": "https://localhost:8080/"
        }
      },
      "execution_count": 16,
      "outputs": [
        {
          "output_type": "stream",
          "name": "stdout",
          "text": [
            "120\n"
          ]
        }
      ]
    },
    {
      "cell_type": "markdown",
      "source": [
        "6. Write a Python program to merge two unsorted lists into a single sorted list\n",
        "using the merge sort algorithm."
      ],
      "metadata": {
        "id": "GVLiuK64tSEs"
      }
    },
    {
      "cell_type": "code",
      "source": [
        "def unsortedarray (a, b, res, n, m):\n",
        "   # Sorting a[] and b[]\n",
        "   a.sort()\n",
        "   b.sort()\n",
        "   # Merge two sorted arrays into res[]\n",
        "   i, j, k = 0, 0, 0\n",
        "   while (i < n and j < m):\n",
        "      if (a[i] <= b[j]):\n",
        "         res[k] = a[i]\n",
        "         i += 1\n",
        "         k += 1\n",
        "      else:\n",
        "         res[k] = b[j]\n",
        "         j += 1\n",
        "         k += 1\n",
        "   while (i < n):  # Merging remaining\n",
        "      # elements of a[] (if any)\n",
        "      res[k] = a[i]\n",
        "      i += 1\n",
        "      k += 1\n",
        "   while (j < m):  # Merging remaining\n",
        "      # elements of b[] (if any)\n",
        "      res[k] = b[j]\n",
        "      j += 1\n",
        "      k += 1\n",
        "lt1=[4,1,5,3]\n",
        "lt2=[10,9,2,12]\n",
        "n=len(lt1)\n",
        "m=len(lt2)\n",
        "res=[0]*(n+m)\n",
        "unsortedarray(lt1,lt2,res,n,m)\n",
        "for num in res:\n",
        "  print(num)"
      ],
      "metadata": {
        "id": "z7P8Wk9btALP",
        "outputId": "299ddcad-ada1-4e0c-a7f0-344e195e392c",
        "colab": {
          "base_uri": "https://localhost:8080/"
        }
      },
      "execution_count": 25,
      "outputs": [
        {
          "output_type": "stream",
          "name": "stdout",
          "text": [
            "1\n",
            "2\n",
            "3\n",
            "4\n",
            "5\n",
            "9\n",
            "10\n",
            "12\n"
          ]
        }
      ]
    },
    {
      "cell_type": "markdown",
      "source": [
        "8. Write a Python program to find the second-largest element in a list."
      ],
      "metadata": {
        "id": "mnmUKRu0tpvM"
      }
    },
    {
      "cell_type": "code",
      "source": [
        "def secLar(ip):\n",
        "  lt=set(ip)\n",
        "  lt.remove(max(ip))\n",
        "  return max(lt)\n",
        "\n",
        "ip=[10, 20, 4, 45, 99]\n",
        "print(secLar(ip))"
      ],
      "metadata": {
        "id": "AiIZlTOivILb",
        "outputId": "af08a77a-3b8b-470a-a6b2-855491fe9228",
        "colab": {
          "base_uri": "https://localhost:8080/"
        }
      },
      "execution_count": 17,
      "outputs": [
        {
          "output_type": "stream",
          "name": "stdout",
          "text": [
            "45\n"
          ]
        }
      ]
    },
    {
      "cell_type": "markdown",
      "source": [
        "7. Write a Python program to find the GCD (Greatest Common Divisor) of two numbers."
      ],
      "metadata": {
        "id": "nFnYPi5pvbBr"
      }
    },
    {
      "cell_type": "code",
      "source": [
        "def gcd(num1,num2):\n",
        "  if num2==0:\n",
        "    return num1\n",
        "  else:\n",
        "    return gcd(num2,num1%num2)\n",
        "\n",
        "num1=4\n",
        "num2=9\n",
        "print(gcd(num1,num2))"
      ],
      "metadata": {
        "id": "CPgmSKI1vO1K",
        "outputId": "c9fb89d4-6134-4d0c-d337-5685749cc9a2",
        "colab": {
          "base_uri": "https://localhost:8080/"
        }
      },
      "execution_count": 20,
      "outputs": [
        {
          "output_type": "stream",
          "name": "stdout",
          "text": [
            "1\n"
          ]
        }
      ]
    },
    {
      "cell_type": "markdown",
      "source": [
        "9. Write a Python program to find the longest common subsequence between two strings using dynamic programming."
      ],
      "metadata": {
        "id": "XNv1WGF8wZPr"
      }
    },
    {
      "cell_type": "code",
      "source": [
        "def lcs(X, Y):\n",
        "    # find the length of the strings\n",
        "    m = len(X)\n",
        "    n = len(Y)\n",
        "\n",
        "    # declaring the array for storing the dp values\n",
        "    L = [[None]*(n + 1) for i in range(m + 1)]\n",
        "\n",
        "    for i in range(m + 1):\n",
        "        for j in range(n + 1):\n",
        "            if i == 0 or j == 0 :\n",
        "                L[i][j] = 0\n",
        "            elif X[i-1] == Y[j-1]:\n",
        "                L[i][j] = L[i-1][j-1]+1\n",
        "            else:\n",
        "                L[i][j] = max(L[i-1][j], L[i][j-1])\n",
        "\n",
        "    # L[m][n] contains the length of LCS of X[0..n-1] & Y[0..m-1]\n",
        "    return L[m][n]\n",
        "X = \"AGGTAB\"\n",
        "Y = \"GXTXAYB\"\n",
        "print(\"Length of LCS is \", lcs(X, Y))"
      ],
      "metadata": {
        "id": "hp_39ZzNwKXI",
        "outputId": "edffa65c-3a3b-4708-d413-fca31cffde58",
        "colab": {
          "base_uri": "https://localhost:8080/"
        }
      },
      "execution_count": 26,
      "outputs": [
        {
          "output_type": "stream",
          "name": "stdout",
          "text": [
            "Length of LCS is  4\n"
          ]
        }
      ]
    },
    {
      "cell_type": "code",
      "source": [],
      "metadata": {
        "id": "veZEmqv50jXc"
      },
      "execution_count": null,
      "outputs": []
    }
  ]
}