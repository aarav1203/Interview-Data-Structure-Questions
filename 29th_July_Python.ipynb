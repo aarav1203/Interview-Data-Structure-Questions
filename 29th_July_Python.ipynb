{
  "nbformat": 4,
  "nbformat_minor": 0,
  "metadata": {
    "colab": {
      "provenance": [],
      "authorship_tag": "ABX9TyOuj+i+rB3nvBJtaJ6m4IRV",
      "include_colab_link": true
    },
    "kernelspec": {
      "name": "python3",
      "display_name": "Python 3"
    },
    "language_info": {
      "name": "python"
    }
  },
  "cells": [
    {
      "cell_type": "markdown",
      "metadata": {
        "id": "view-in-github",
        "colab_type": "text"
      },
      "source": [
        "<a href=\"https://colab.research.google.com/github/aarav1203/Interview-Data-Structure-Questions/blob/main/29th_July_Python.ipynb\" target=\"_parent\"><img src=\"https://colab.research.google.com/assets/colab-badge.svg\" alt=\"Open In Colab\"/></a>"
      ]
    },
    {
      "cell_type": "markdown",
      "source": [
        "1.Write a Python Program to check if a given string is Anagram or not?"
      ],
      "metadata": {
        "id": "YT3URu1xoFlg"
      }
    },
    {
      "cell_type": "code",
      "source": [
        "def anagram(input):\n",
        "  i=0\n",
        "  j=len(input)-1\n",
        "  while i<=j:\n",
        "    if input[i]!=input[j]:\n",
        "      return False\n",
        "    i+=1\n",
        "    j-=1\n",
        "  return True\n",
        "\n",
        "print(anagram('Boy'))\n",
        "print(anagram('racecar'))"
      ],
      "metadata": {
        "colab": {
          "base_uri": "https://localhost:8080/"
        },
        "id": "mixdQMv4n9e9",
        "outputId": "19c0daa2-f969-4f79-b910-e65d25b2366b"
      },
      "execution_count": 4,
      "outputs": [
        {
          "output_type": "stream",
          "name": "stdout",
          "text": [
            "False\n",
            "True\n"
          ]
        }
      ]
    },
    {
      "cell_type": "markdown",
      "source": [
        "2. Write a Python program to find the maximum and minimum values in a dictionary."
      ],
      "metadata": {
        "id": "1MGfTDyFpQmJ"
      }
    },
    {
      "cell_type": "code",
      "source": [
        "def maxi(input):\n",
        "  val=input.values()\n",
        "  return max(val)\n",
        "def mini(input):\n",
        "  val=input.values()\n",
        "  return min(val)\n",
        "\n",
        "ip={'a':2,'b':4,'c':1,'d':10}\n",
        "print(maxi(ip))\n",
        "print(mini(ip))"
      ],
      "metadata": {
        "colab": {
          "base_uri": "https://localhost:8080/"
        },
        "id": "OdUxgzb1ownQ",
        "outputId": "2440d841-1cd5-4874-b832-22df2176ef83"
      },
      "execution_count": 5,
      "outputs": [
        {
          "output_type": "stream",
          "name": "stdout",
          "text": [
            "10\n",
            "1\n"
          ]
        }
      ]
    },
    {
      "cell_type": "markdown",
      "source": [
        "3. Write a Python program to find the average of a list of numbers."
      ],
      "metadata": {
        "id": "F9vwmW4jqZZm"
      }
    },
    {
      "cell_type": "code",
      "source": [],
      "metadata": {
        "id": "REaMAzWaqcLv"
      },
      "execution_count": null,
      "outputs": []
    }
  ]
}